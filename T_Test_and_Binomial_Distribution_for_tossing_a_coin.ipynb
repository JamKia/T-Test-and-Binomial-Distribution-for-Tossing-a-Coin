{
  "nbformat": 4,
  "nbformat_minor": 0,
  "metadata": {
    "colab": {
      "name": "T-Test and Binomial Distribution for tossing a coin.ipynb",
      "provenance": [],
      "authorship_tag": "ABX9TyPPZ5WVrnuQ2n9gE0TIhf0q",
      "include_colab_link": true
    },
    "kernelspec": {
      "name": "python3",
      "display_name": "Python 3"
    },
    "language_info": {
      "name": "python"
    }
  },
  "cells": [
    {
      "cell_type": "markdown",
      "metadata": {
        "id": "view-in-github",
        "colab_type": "text"
      },
      "source": [
        "<a href=\"https://colab.research.google.com/github/JamKia/T-Test-and-Binomial-Distribution-for-Tossing-a-Coin/blob/main/T_Test_and_Binomial_Distribution_for_tossing_a_coin.ipynb\" target=\"_parent\"><img src=\"https://colab.research.google.com/assets/colab-badge.svg\" alt=\"Open In Colab\"/></a>"
      ]
    },
    {
      "cell_type": "markdown",
      "source": [
        "# Question 4"
      ],
      "metadata": {
        "id": "pZpY28afdCYi"
      }
    },
    {
      "cell_type": "markdown",
      "source": [
        "Coin toss experiment can be thought of a **Binomial experiment**.\n",
        "\n",
        "Probability of getting **HEAD** as success at each coin toss is **`p`**.\n",
        "\n",
        "The number of experiments (tossing the coin) is counted by `n`.\n",
        "\n",
        "In a binomial experiment, given `n` and `p`, we toss the coin `n` times and we are interested in the number of heads/successes we will get.\n",
        "\n",
        "WE GET:\n",
        "\n",
        "HEAD -> 1\n",
        "\n",
        "TAIL -> 0"
      ],
      "metadata": {
        "id": "hx9GKx-SdEd2"
      }
    },
    {
      "cell_type": "code",
      "source": [
        "import numpy as np\n",
        "import pandas as pd\n",
        "import random\n",
        "import matplotlib.pyplot as plt\n",
        "import scipy.stats as st"
      ],
      "metadata": {
        "id": "K-LyzWGDdDdu"
      },
      "execution_count": 1,
      "outputs": []
    },
    {
      "cell_type": "code",
      "source": [
        "SEED = 3"
      ],
      "metadata": {
        "id": "KrB1-3JDoyEd"
      },
      "execution_count": 2,
      "outputs": []
    },
    {
      "cell_type": "code",
      "source": [
        "np.random.seed(SEED)\n",
        "n = 1 # We toss 1 time.\n",
        "p = 0.5 # fair coin\n",
        "np.random.binomial(n,p)"
      ],
      "metadata": {
        "colab": {
          "base_uri": "https://localhost:8080/",
          "height": 0
        },
        "id": "UnhrvOgoehyO",
        "outputId": "919cf434-7485-4622-d60f-f3664b949e4e"
      },
      "execution_count": 3,
      "outputs": [
        {
          "output_type": "execute_result",
          "data": {
            "text/plain": [
              "1"
            ]
          },
          "metadata": {},
          "execution_count": 3
        }
      ]
    },
    {
      "cell_type": "code",
      "source": [
        "np.random.seed(SEED)\n",
        "n = 10 # We toss 10 times.\n",
        "p = 0.5 # fair coin\n",
        "np.random.binomial(n, p)"
      ],
      "metadata": {
        "colab": {
          "base_uri": "https://localhost:8080/",
          "height": 0
        },
        "id": "PrFmD5tofAz2",
        "outputId": "5333d9e6-4c5d-43f4-d791-a2c01a0735c8"
      },
      "execution_count": 4,
      "outputs": [
        {
          "output_type": "execute_result",
          "data": {
            "text/plain": [
              "5"
            ]
          },
          "metadata": {},
          "execution_count": 4
        }
      ]
    },
    {
      "cell_type": "markdown",
      "source": [
        "Hence, with tossing 10 times and a fair coin we probably get 9 HEADs ($\\frac{5}{10} \\approx 50\\%$ which is close to p=50%)"
      ],
      "metadata": {
        "id": "MsNVOBUkgFmk"
      }
    },
    {
      "cell_type": "markdown",
      "source": [
        "We repeat our coin toss experiment 100 times (in each experiment we toss a fair coin 10 times)."
      ],
      "metadata": {
        "id": "FOxfGP2pifTn"
      }
    },
    {
      "cell_type": "code",
      "source": [
        "np.random.seed(SEED)\n",
        "n = 10 # We toss 10 times in each experiment.\n",
        "p = 0.5 # fair coin\n",
        "size = 100 # let us repeat our experiment for 100 times\n",
        "x100 = np.random.binomial(n=n, p=p, size=size)\n",
        "x100"
      ],
      "metadata": {
        "colab": {
          "base_uri": "https://localhost:8080/",
          "height": 0
        },
        "id": "qSFPrDzojjto",
        "outputId": "1f187e99-1270-4778-e8bc-ddec5656e199"
      },
      "execution_count": 5,
      "outputs": [
        {
          "output_type": "execute_result",
          "data": {
            "text/plain": [
              "array([5, 6, 4, 5, 7, 7, 3, 4, 2, 5, 2, 5, 6, 4, 6, 5, 2, 5, 4, 5, 4, 6,\n",
              "       5, 3, 5, 6, 4, 4, 5, 7, 8, 6, 7, 7, 5, 3, 6, 5, 4, 4, 5, 5, 4, 4,\n",
              "       5, 7, 5, 4, 4, 5, 4, 4, 5, 3, 5, 4, 6, 6, 6, 6, 4, 6, 4, 5, 4, 5,\n",
              "       3, 4, 8, 4, 6, 6, 6, 5, 5, 3, 3, 4, 3, 3, 3, 5, 4, 8, 6, 5, 6, 4,\n",
              "       7, 7, 6, 5, 7, 6, 6, 7, 6, 4, 5, 4])"
            ]
          },
          "metadata": {},
          "execution_count": 5
        }
      ]
    },
    {
      "cell_type": "code",
      "source": [
        "print('Standard Deviation of the Distribution:\\t', np.std(x100) )\n",
        "print('Mean of Distribution:\\t\\t\\t', np.mean(x100) )"
      ],
      "metadata": {
        "colab": {
          "base_uri": "https://localhost:8080/",
          "height": 0
        },
        "id": "qvedlX0MkHrE",
        "outputId": "931ce1e9-9b39-4b73-9676-e59937ad3d94"
      },
      "execution_count": 6,
      "outputs": [
        {
          "output_type": "stream",
          "name": "stdout",
          "text": [
            "Standard Deviation of the Distribution:\t 1.3444329659748753\n",
            "Mean of Distribution:\t\t\t 4.95\n"
          ]
        }
      ]
    },
    {
      "cell_type": "markdown",
      "source": [
        "Now, I count how many times the coin lands 0 heads, 1 head, 2 heads with our fair coin toss, and so on."
      ],
      "metadata": {
        "id": "66ZgAaBkm0qS"
      }
    },
    {
      "cell_type": "code",
      "source": [
        "experimens_list = [np.equal(x100,i).sum() for i in range(n+1)]\n",
        "df = pd.DataFrame()\n",
        "df['HEAD counts outcome'] = pd.Series(experimens_list)\n",
        "df['HEAD counts'] = df.index\n",
        "df['HEAD counts prob.'] = df['HEAD counts outcome']/df['HEAD counts outcome'].sum()\n",
        "df"
      ],
      "metadata": {
        "colab": {
          "base_uri": "https://localhost:8080/",
          "height": 394
        },
        "id": "FbS53RmRkPyj",
        "outputId": "3efc4b20-26eb-46ea-e206-3feeee437d11"
      },
      "execution_count": 7,
      "outputs": [
        {
          "output_type": "execute_result",
          "data": {
            "text/plain": [
              "    HEAD counts outcome  HEAD counts  HEAD counts prob.\n",
              "0                     0            0               0.00\n",
              "1                     0            1               0.00\n",
              "2                     3            2               0.03\n",
              "3                    10            3               0.10\n",
              "4                    26            4               0.26\n",
              "5                    27            5               0.27\n",
              "6                    21            6               0.21\n",
              "7                    10            7               0.10\n",
              "8                     3            8               0.03\n",
              "9                     0            9               0.00\n",
              "10                    0           10               0.00"
            ],
            "text/html": [
              "\n",
              "  <div id=\"df-3993abb5-7d81-4595-90b0-3fc6abcba220\">\n",
              "    <div class=\"colab-df-container\">\n",
              "      <div>\n",
              "<style scoped>\n",
              "    .dataframe tbody tr th:only-of-type {\n",
              "        vertical-align: middle;\n",
              "    }\n",
              "\n",
              "    .dataframe tbody tr th {\n",
              "        vertical-align: top;\n",
              "    }\n",
              "\n",
              "    .dataframe thead th {\n",
              "        text-align: right;\n",
              "    }\n",
              "</style>\n",
              "<table border=\"1\" class=\"dataframe\">\n",
              "  <thead>\n",
              "    <tr style=\"text-align: right;\">\n",
              "      <th></th>\n",
              "      <th>HEAD counts outcome</th>\n",
              "      <th>HEAD counts</th>\n",
              "      <th>HEAD counts prob.</th>\n",
              "    </tr>\n",
              "  </thead>\n",
              "  <tbody>\n",
              "    <tr>\n",
              "      <th>0</th>\n",
              "      <td>0</td>\n",
              "      <td>0</td>\n",
              "      <td>0.00</td>\n",
              "    </tr>\n",
              "    <tr>\n",
              "      <th>1</th>\n",
              "      <td>0</td>\n",
              "      <td>1</td>\n",
              "      <td>0.00</td>\n",
              "    </tr>\n",
              "    <tr>\n",
              "      <th>2</th>\n",
              "      <td>3</td>\n",
              "      <td>2</td>\n",
              "      <td>0.03</td>\n",
              "    </tr>\n",
              "    <tr>\n",
              "      <th>3</th>\n",
              "      <td>10</td>\n",
              "      <td>3</td>\n",
              "      <td>0.10</td>\n",
              "    </tr>\n",
              "    <tr>\n",
              "      <th>4</th>\n",
              "      <td>26</td>\n",
              "      <td>4</td>\n",
              "      <td>0.26</td>\n",
              "    </tr>\n",
              "    <tr>\n",
              "      <th>5</th>\n",
              "      <td>27</td>\n",
              "      <td>5</td>\n",
              "      <td>0.27</td>\n",
              "    </tr>\n",
              "    <tr>\n",
              "      <th>6</th>\n",
              "      <td>21</td>\n",
              "      <td>6</td>\n",
              "      <td>0.21</td>\n",
              "    </tr>\n",
              "    <tr>\n",
              "      <th>7</th>\n",
              "      <td>10</td>\n",
              "      <td>7</td>\n",
              "      <td>0.10</td>\n",
              "    </tr>\n",
              "    <tr>\n",
              "      <th>8</th>\n",
              "      <td>3</td>\n",
              "      <td>8</td>\n",
              "      <td>0.03</td>\n",
              "    </tr>\n",
              "    <tr>\n",
              "      <th>9</th>\n",
              "      <td>0</td>\n",
              "      <td>9</td>\n",
              "      <td>0.00</td>\n",
              "    </tr>\n",
              "    <tr>\n",
              "      <th>10</th>\n",
              "      <td>0</td>\n",
              "      <td>10</td>\n",
              "      <td>0.00</td>\n",
              "    </tr>\n",
              "  </tbody>\n",
              "</table>\n",
              "</div>\n",
              "      <button class=\"colab-df-convert\" onclick=\"convertToInteractive('df-3993abb5-7d81-4595-90b0-3fc6abcba220')\"\n",
              "              title=\"Convert this dataframe to an interactive table.\"\n",
              "              style=\"display:none;\">\n",
              "        \n",
              "  <svg xmlns=\"http://www.w3.org/2000/svg\" height=\"24px\"viewBox=\"0 0 24 24\"\n",
              "       width=\"24px\">\n",
              "    <path d=\"M0 0h24v24H0V0z\" fill=\"none\"/>\n",
              "    <path d=\"M18.56 5.44l.94 2.06.94-2.06 2.06-.94-2.06-.94-.94-2.06-.94 2.06-2.06.94zm-11 1L8.5 8.5l.94-2.06 2.06-.94-2.06-.94L8.5 2.5l-.94 2.06-2.06.94zm10 10l.94 2.06.94-2.06 2.06-.94-2.06-.94-.94-2.06-.94 2.06-2.06.94z\"/><path d=\"M17.41 7.96l-1.37-1.37c-.4-.4-.92-.59-1.43-.59-.52 0-1.04.2-1.43.59L10.3 9.45l-7.72 7.72c-.78.78-.78 2.05 0 2.83L4 21.41c.39.39.9.59 1.41.59.51 0 1.02-.2 1.41-.59l7.78-7.78 2.81-2.81c.8-.78.8-2.07 0-2.86zM5.41 20L4 18.59l7.72-7.72 1.47 1.35L5.41 20z\"/>\n",
              "  </svg>\n",
              "      </button>\n",
              "      \n",
              "  <style>\n",
              "    .colab-df-container {\n",
              "      display:flex;\n",
              "      flex-wrap:wrap;\n",
              "      gap: 12px;\n",
              "    }\n",
              "\n",
              "    .colab-df-convert {\n",
              "      background-color: #E8F0FE;\n",
              "      border: none;\n",
              "      border-radius: 50%;\n",
              "      cursor: pointer;\n",
              "      display: none;\n",
              "      fill: #1967D2;\n",
              "      height: 32px;\n",
              "      padding: 0 0 0 0;\n",
              "      width: 32px;\n",
              "    }\n",
              "\n",
              "    .colab-df-convert:hover {\n",
              "      background-color: #E2EBFA;\n",
              "      box-shadow: 0px 1px 2px rgba(60, 64, 67, 0.3), 0px 1px 3px 1px rgba(60, 64, 67, 0.15);\n",
              "      fill: #174EA6;\n",
              "    }\n",
              "\n",
              "    [theme=dark] .colab-df-convert {\n",
              "      background-color: #3B4455;\n",
              "      fill: #D2E3FC;\n",
              "    }\n",
              "\n",
              "    [theme=dark] .colab-df-convert:hover {\n",
              "      background-color: #434B5C;\n",
              "      box-shadow: 0px 1px 3px 1px rgba(0, 0, 0, 0.15);\n",
              "      filter: drop-shadow(0px 1px 2px rgba(0, 0, 0, 0.3));\n",
              "      fill: #FFFFFF;\n",
              "    }\n",
              "  </style>\n",
              "\n",
              "      <script>\n",
              "        const buttonEl =\n",
              "          document.querySelector('#df-3993abb5-7d81-4595-90b0-3fc6abcba220 button.colab-df-convert');\n",
              "        buttonEl.style.display =\n",
              "          google.colab.kernel.accessAllowed ? 'block' : 'none';\n",
              "\n",
              "        async function convertToInteractive(key) {\n",
              "          const element = document.querySelector('#df-3993abb5-7d81-4595-90b0-3fc6abcba220');\n",
              "          const dataTable =\n",
              "            await google.colab.kernel.invokeFunction('convertToInteractive',\n",
              "                                                     [key], {});\n",
              "          if (!dataTable) return;\n",
              "\n",
              "          const docLinkHtml = 'Like what you see? Visit the ' +\n",
              "            '<a target=\"_blank\" href=https://colab.research.google.com/notebooks/data_table.ipynb>data table notebook</a>'\n",
              "            + ' to learn more about interactive tables.';\n",
              "          element.innerHTML = '';\n",
              "          dataTable['output_type'] = 'display_data';\n",
              "          await google.colab.output.renderOutput(dataTable, element);\n",
              "          const docLink = document.createElement('div');\n",
              "          docLink.innerHTML = docLinkHtml;\n",
              "          element.appendChild(docLink);\n",
              "        }\n",
              "      </script>\n",
              "    </div>\n",
              "  </div>\n",
              "  "
            ]
          },
          "metadata": {},
          "execution_count": 7
        }
      ]
    },
    {
      "cell_type": "markdown",
      "source": [
        "For 100 experiments, we may not see all heads or all tails with a fair coin (as the first and last elements are zero). There is more probability to get 4, or 5, or 6 heads in each experiment. The above success counts sums to 100, our total number of experiments. The observed successes is applied to estimate the probability of getting successes count for `n=10` tosses by dividing by 100."
      ],
      "metadata": {
        "id": "xsxzdAQfoUyd"
      }
    },
    {
      "cell_type": "code",
      "source": [
        "probs_100_mean = [np.equal(x100,i).mean() for i in range(n+1)]\n",
        "print(probs_100_mean)\n",
        "\n",
        "# plot for the probability of x successes\n",
        "plt.xticks(range(n+1))\n",
        "plt.plot(list(range(n+1)), probs_100_mean, color='blue', marker='o')\n",
        "plt.xlabel('Number of Heads',fontsize=14)\n",
        "plt.ylabel('Probability',fontsize=14)"
      ],
      "metadata": {
        "colab": {
          "base_uri": "https://localhost:8080/",
          "height": 318
        },
        "id": "wh4-ZbC6nEGP",
        "outputId": "a38543dd-1806-49df-befe-301354f90c28"
      },
      "execution_count": 8,
      "outputs": [
        {
          "output_type": "stream",
          "name": "stdout",
          "text": [
            "[0.0, 0.0, 0.03, 0.1, 0.26, 0.27, 0.21, 0.1, 0.03, 0.0, 0.0]\n"
          ]
        },
        {
          "output_type": "execute_result",
          "data": {
            "text/plain": [
              "Text(0, 0.5, 'Probability')"
            ]
          },
          "metadata": {},
          "execution_count": 8
        },
        {
          "output_type": "display_data",
          "data": {
            "text/plain": [
              "<Figure size 432x288 with 1 Axes>"
            ],
            "image/png": "[encoded data removed]"
          },
          "metadata": {
            "needs_background": "light"
          }
        }
      ]
    },
    {
      "cell_type": "markdown",
      "source": [
        "For large n, the Binomial distribution $B(n, p)$ will converge to $N( np, np(1-p) )$"
      ],
      "metadata": {
        "id": "7hfD6Cv2x1hP"
      }
    },
    {
      "cell_type": "code",
      "source": [
        "mean = n * p\n",
        "var = n*p*(1-p)\n",
        "mean, var"
      ],
      "metadata": {
        "colab": {
          "base_uri": "https://localhost:8080/",
          "height": 0
        },
        "id": "Q22mIqoFx08m",
        "outputId": "eeafa25d-4315-4f81-e728-5f5adebd2122"
      },
      "execution_count": 9,
      "outputs": [
        {
          "output_type": "execute_result",
          "data": {
            "text/plain": [
              "(5.0, 2.5)"
            ]
          },
          "metadata": {},
          "execution_count": 9
        }
      ]
    },
    {
      "cell_type": "code",
      "source": [
        "from numpy import random\n",
        "import matplotlib.pyplot as plt\n",
        "import seaborn as sns\n",
        "\n",
        "x = random.binomial(n=10, p=0.5, size=100)\n",
        "sns.distplot(x, hist=True, kde=False)\n",
        "plt.show()"
      ],
      "metadata": {
        "colab": {
          "base_uri": "https://localhost:8080/",
          "height": 320
        },
        "id": "k2WQ71i-1pDU",
        "outputId": "639e6079-999b-40d4-d701-ee48a5af64f3"
      },
      "execution_count": 10,
      "outputs": [
        {
          "output_type": "stream",
          "name": "stderr",
          "text": [
            "/usr/local/lib/python3.7/dist-packages/seaborn/distributions.py:2619: FutureWarning: `distplot` is a deprecated function and will be removed in a future version. Please adapt your code to use either `displot` (a figure-level function with similar flexibility) or `histplot` (an axes-level function for histograms).\n",
            "  warnings.warn(msg, FutureWarning)\n"
          ]
        },
        {
          "output_type": "display_data",
          "data": {
            "text/plain": [
              "<Figure size 432x288 with 1 Axes>"
            ],
            "image/png": "[encoded data removed]"
          },
          "metadata": {
            "needs_background": "light"
          }
        }
      ]
    },
    {
      "cell_type": "markdown",
      "source": [
        "For a fair coin the success rate is`p=0.5`. For the tossing count `n=10`, what is the probability that that the head counts is exactly 5? (CDF)"
      ],
      "metadata": {
        "id": "f3IL7oup91rs"
      }
    },
    {
      "cell_type": "code",
      "source": [
        "from scipy.stats import binom\n",
        "#calculate binomial probability\n",
        "binom.pmf(k=5, n=10, p=0.5)"
      ],
      "metadata": {
        "colab": {
          "base_uri": "https://localhost:8080/",
          "height": 0
        },
        "id": "6aD11DEsymBH",
        "outputId": "3751c15d-0936-4310-9a89-3c628d78e4d3"
      },
      "execution_count": 11,
      "outputs": [
        {
          "output_type": "execute_result",
          "data": {
            "text/plain": [
              "0.24609375000000003"
            ]
          },
          "metadata": {},
          "execution_count": 11
        }
      ]
    },
    {
      "cell_type": "markdown",
      "source": [
        "For a fair coin the success rate is`p=0.5`. For the tossing count `n=10`, what is the probability that the head counts is between 4 and 6 ? (CDF)"
      ],
      "metadata": {
        "id": "XCtKo9oQ1Cjo"
      }
    },
    {
      "cell_type": "code",
      "source": [
        "#calculate binomial probability\n",
        "binom.cdf(k=6, n=10, p=0.5) - binom.cdf(k=4, n=10, p=0.5)"
      ],
      "metadata": {
        "colab": {
          "base_uri": "https://localhost:8080/",
          "height": 0
        },
        "id": "yO8hJKtizN1X",
        "outputId": "c591e32a-deee-4dc8-b352-7e711b9616c5"
      },
      "execution_count": 12,
      "outputs": [
        {
          "output_type": "execute_result",
          "data": {
            "text/plain": [
              "0.451171875"
            ]
          },
          "metadata": {},
          "execution_count": 12
        }
      ]
    },
    {
      "cell_type": "markdown",
      "source": [
        "The probability that the coin lands on heads 5 times or fewer is:"
      ],
      "metadata": {
        "id": "M8-_tsuR14lI"
      }
    },
    {
      "cell_type": "code",
      "source": [
        "#calculate binomial probability\n",
        "binom.cdf(k=5, n=10, p=0.5)"
      ],
      "metadata": {
        "colab": {
          "base_uri": "https://localhost:8080/",
          "height": 0
        },
        "id": "BbJOqbcM0Mji",
        "outputId": "2138eddd-58b4-4a26-dbee-2013115fac80"
      },
      "execution_count": 13,
      "outputs": [
        {
          "output_type": "execute_result",
          "data": {
            "text/plain": [
              "0.623046875"
            ]
          },
          "metadata": {},
          "execution_count": 13
        }
      ]
    },
    {
      "cell_type": "markdown",
      "source": [
        "And, for our experiment:"
      ],
      "metadata": {
        "id": "1O8MwMwL2SWw"
      }
    },
    {
      "cell_type": "code",
      "source": [
        "df[df['HEAD counts']<=5]['HEAD counts outcome'].sum()/100"
      ],
      "metadata": {
        "colab": {
          "base_uri": "https://localhost:8080/",
          "height": 0
        },
        "id": "IqNZ6vHX2Id7",
        "outputId": "72be6d89-b227-4fc7-8065-1808c55a74f0"
      },
      "execution_count": 14,
      "outputs": [
        {
          "output_type": "execute_result",
          "data": {
            "text/plain": [
              "0.66"
            ]
          },
          "metadata": {},
          "execution_count": 14
        }
      ]
    },
    {
      "cell_type": "markdown",
      "source": [
        "What is the probability that the toss makes exactly 50%:"
      ],
      "metadata": {
        "id": "NVJvMybW2nhn"
      }
    },
    {
      "cell_type": "code",
      "source": [
        "#calculate binomial probability\n",
        "k = p * n\n",
        "binom.pmf(k=k, n=10, p=0.5)"
      ],
      "metadata": {
        "colab": {
          "base_uri": "https://localhost:8080/",
          "height": 0
        },
        "id": "c8DVMtOT2YLY",
        "outputId": "a24ac3a7-e1b8-47be-c951-74d7387653a5"
      },
      "execution_count": 15,
      "outputs": [
        {
          "output_type": "execute_result",
          "data": {
            "text/plain": [
              "0.24609375000000003"
            ]
          },
          "metadata": {},
          "execution_count": 15
        }
      ]
    },
    {
      "cell_type": "markdown",
      "source": [
        "What is the probability that the toss makes exactly 50% or 60%:"
      ],
      "metadata": {
        "id": "ob_O3Cmh4ipy"
      }
    },
    {
      "cell_type": "code",
      "source": [
        "binom.pmf(k=k, n=10, p=0.5) + binom.pmf(k=6, n=10, p=0.5)"
      ],
      "metadata": {
        "colab": {
          "base_uri": "https://localhost:8080/",
          "height": 0
        },
        "id": "qJ7aHi8z4aWc",
        "outputId": "af0a5506-1920-4ce7-c8da-c371bb9fb800"
      },
      "execution_count": 16,
      "outputs": [
        {
          "output_type": "execute_result",
          "data": {
            "text/plain": [
              "0.4511718749999999"
            ]
          },
          "metadata": {},
          "execution_count": 16
        }
      ]
    },
    {
      "cell_type": "markdown",
      "source": [
        "And, for our experiment:"
      ],
      "metadata": {
        "id": "4dnhmcFJ4wOQ"
      }
    },
    {
      "cell_type": "code",
      "source": [
        "( df[df['HEAD counts']==5]['HEAD counts outcome'].values + df[df['HEAD counts']==6]['HEAD counts outcome'].values ) /100"
      ],
      "metadata": {
        "colab": {
          "base_uri": "https://localhost:8080/",
          "height": 0
        },
        "id": "A__k4hbk4qJQ",
        "outputId": "0390962d-0116-4bd1-cf85-06d82c142a25"
      },
      "execution_count": 17,
      "outputs": [
        {
          "output_type": "execute_result",
          "data": {
            "text/plain": [
              "array([0.48])"
            ]
          },
          "metadata": {},
          "execution_count": 17
        }
      ]
    },
    {
      "cell_type": "markdown",
      "source": [
        "## Final Answer:\n",
        "\n",
        "Two-tailed t-student test, t-student Critical Value, CI:\n",
        "\n",
        "($H_0$: Coin is fair (Succes rate is not far enough from 50%))"
      ],
      "metadata": {
        "id": "yJo8YNan2Mgk"
      }
    },
    {
      "cell_type": "code",
      "source": [
        "alpha = 0.05 # the significance level\n",
        "df = size - 1 # The degrees of freedom\n",
        "t_critical = st.t.ppf(q = 1 - alpha/2 , df = df) #  if the test statistic is greater than this value, the results of the test are statistically significant.\n",
        "t_score = (68/100 - p) * np.sqrt( size ) / np.std(x100)\n",
        "pvalue = st.t.sf(abs(t_score), df= df)*2\n",
        "\n",
        "# We find p-value for two-tailed test\n",
        "if st.t.sf( abs(t_score), df = df) * 2 > alpha:\n",
        "  print('t-score ({}) is less than t-student critical value ({}),\\n the P-value ({}) is greater than the significance level (alpha)({}).\\n Hence, we Fail to reject the null!.\\nThe coin is fair.'.format(\n",
        "                                                                                                          np.round(t_score,3),\n",
        "                                                                                                          np.round(t_critical,3),\n",
        "                                                                                                          np.round(pvalue,3),\n",
        "                                                                                                          alpha)\n",
        "                                                                                                         )\n",
        "else:\n",
        "  print('t-score ({}) is less than t-student critical value ({}),\\n the P-value ({}) is greater than the significance level (alpha)({}).\\n Hence, we reject the null! The coin is not fair.'.format(\n",
        "                                                                                                          np.round(t_score,3),\n",
        "                                                                                                          np.round(t_critical,3),\n",
        "                                                                                                          np.round(pvalue,3),\n",
        "                                                                                                          alpha)\n",
        "                                                                                                         )"
      ],
      "metadata": {
        "colab": {
          "base_uri": "https://localhost:8080/",
          "height": 0
        },
        "id": "lYgaJFXzaQNn",
        "outputId": "e292bd86-b98f-4808-8eec-7f394e603715"
      },
      "execution_count": 18,
      "outputs": [
        {
          "output_type": "stream",
          "name": "stdout",
          "text": [
            "t-score (1.339) is less than t-student critical value (1.984),\n",
            " the P-value (0.184) is greater than the significance level (alpha)(0.05).\n",
            " Hence, we Fail to reject the null!.\n",
            "The coin is fair.\n"
          ]
        }
      ]
    },
    {
      "cell_type": "code",
      "source": [
        "alpha = 0.1 # the significance level\n",
        "df = size - 1 # The degrees of freedom\n",
        "t_critical = st.t.ppf(q = 1 - alpha/2 , df = df) #  if the test statistic is greater than this value, the results of the test are statistically significant.\n",
        "t_score = (68/100 - p) * np.sqrt( size ) / np.std(x100)\n",
        "pvalue = st.t.sf(abs(t_score), df= df)*2\n",
        "\n",
        "# We find p-value for two-tailed test\n",
        "if st.t.sf( abs(t_score), df = df) * 2 > alpha:\n",
        "  print('t-score ({}) is less than t-student critical value ({}),\\n the P-value ({}) is greater than the significance level (alpha)({}).\\n Hence, we Fail to reject the null!.\\nThe coin is fair.'.format(\n",
        "                                                                                                          np.round(t_score,3),\n",
        "                                                                                                          np.round(t_critical,3),\n",
        "                                                                                                          np.round(pvalue,3),\n",
        "                                                                                                          alpha)\n",
        "                                                                                                         )\n",
        "else:\n",
        "  print('t-score ({}) is less than t-student critical value ({}),\\n the P-value ({}) is greater than the significance level (alpha)({}).\\n Hence, we reject the null! The coin is not fair.'.format(\n",
        "                                                                                                          np.round(t_score,3),\n",
        "                                                                                                          np.round(t_critical,3),\n",
        "                                                                                                          np.round(pvalue,3),\n",
        "                                                                                                          alpha)\n",
        "                                                                                                        )"
      ],
      "metadata": {
        "colab": {
          "base_uri": "https://localhost:8080/",
          "height": 0
        },
        "id": "sunxmqV6Y82J",
        "outputId": "07e9bd83-b0ab-4a72-88ba-b2d91998720d"
      },
      "execution_count": 114,
      "outputs": [
        {
          "output_type": "stream",
          "name": "stdout",
          "text": [
            "t-score (1.339) is less than t-student critical value (1.66),\n",
            " the P-value (0.184) is greater than the significance level (alpha)(0.1).\n",
            " Hence, we Fail to reject the null!.\n",
            "The coin is fair.\n"
          ]
        }
      ]
    },
    {
      "cell_type": "code",
      "source": [
        "frame = []\n",
        "alpha = 0.05\n",
        "step = 0.01\n",
        "for success_rate in np.arange(0, 1+step, step):\n",
        "  t_score = (success_rate - p) * np.sqrt( size ) / np.std(x100)\n",
        "  pvalue = st.t.sf(abs(t_score), df= df)*2\n",
        "  frame += [(success_rate, t_score, pvalue, t_critical, alpha, pvalue > alpha)]\n",
        "test_df = pd.DataFrame.from_records(frame, columns = ['success_rate', 't_score', 'pvalue', 't_critical', 'alpha', 'pvalue > alpha'])\n",
        "# test_df"
      ],
      "metadata": {
        "id": "i6K5YbUBY-ZB"
      },
      "execution_count": 115,
      "outputs": []
    },
    {
      "cell_type": "code",
      "source": [
        "minimum_success_rate = test_df[test_df['pvalue > alpha']== True]['success_rate'].min()\n",
        "maximum_success_rate = test_df[test_df['pvalue > alpha']== True]['success_rate'].max()"
      ],
      "metadata": {
        "id": "jR__adpqgJ2a"
      },
      "execution_count": 116,
      "outputs": []
    },
    {
      "cell_type": "code",
      "source": [
        "plt.scatter( test_df['success_rate'], test_df['pvalue'], label = 'pvalue')\n",
        "plt.plot( test_df['success_rate'], test_df['alpha'], label = 'CI')\n",
        "plt.vlines(minimum_success_rate, ymin = 0, ymax = 1, color = 'r')\n",
        "plt.vlines(maximum_success_rate, ymin = 0, ymax = 1, color = 'r')\n",
        "plt.legend()\n",
        "plt.show()\n",
        "# plt.scatter( test_df['success_rate'], abs( test_df['t_score']), label = 't-score' )\n",
        "# plt.plot( test_df['success_rate'], abs( test_df['t_critical']), label = 'critical t' )\n",
        "# plt.vlines(minimum_success_rate, ymin = 0, ymax = abs( test_df['t_score']).max(), color = 'r')\n",
        "# plt.vlines(maximum_success_rate, ymin = 0, ymax = abs( test_df['t_score']).max(), color = 'r')\n",
        "# plt.legend()\n",
        "# plt.show()"
      ],
      "metadata": {
        "colab": {
          "base_uri": "https://localhost:8080/",
          "height": 265
        },
        "id": "q8KIo52zaYV4",
        "outputId": "9ec876c0-5850-4e88-e529-3f59074b8213"
      },
      "execution_count": 117,
      "outputs": [
        {
          "output_type": "display_data",
          "data": {
            "text/plain": [
              "<Figure size 432x288 with 1 Axes>"
            ],
            "image/png": "[encoded data removed]"
          },
          "metadata": {
            "needs_background": "light"
          }
        }
      ]
    },
    {
      "cell_type": "code",
      "source": [],
      "metadata": {
        "id": "T2qY9I8VaZl2"
      },
      "execution_count": null,
      "outputs": []
    }
  ]
}